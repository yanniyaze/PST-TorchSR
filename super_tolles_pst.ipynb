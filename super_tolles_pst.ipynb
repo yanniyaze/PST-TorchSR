{
 "cells": [
  {
   "cell_type": "markdown",
   "id": "85cb79db-00b0-412c-a9af-b7aef36a882f",
   "metadata": {},
   "source": [
    "# Ich hab mir hier richtig Mühe gegeben :D\n",
    "\n",
    "\n",
    "[Zum Google-Drive, wo ihr eure Bilder hochladen könnt](https://drive.google.com/drive/folders/1_ZBb3fcsFzG69OGAO-sH6MpMNz8M2pOn?usp=sharing)"
   ]
  },
  {
   "cell_type": "code",
   "execution_count": null,
   "id": "8ce2d86c-3ab1-478d-a436-9b5688851d72",
   "metadata": {},
   "outputs": [],
   "source": [
    "from torchsr.datasets import Div2K\n",
    "from torchsr.models import ninasr_b0\n",
    "from torchvision.transforms.functional import to_pil_image, to_tensor\n",
    "import matplotlib.pyplot as plt\n",
    "import torch\n",
    "\n",
    "# Dataset laden\n",
    "dataset = Div2K(root=\"./scripts/data\", scale=2, download=False)\n",
    "hr, lr = dataset[0]\n",
    "\n",
    "# Modell laden\n",
    "model = ninasr_b0(scale=2, pretrained=True)\n",
    "model.eval()\n",
    "\n",
    "# Super-Resolution ausführen\n",
    "device = \"cuda\" if torch.cuda.is_available() else \"cpu\"\n",
    "model = model.to(device)\n",
    "lr_t = to_tensor(lr).unsqueeze(0).to(device)\n",
    "with torch.no_grad():\n",
    "    sr_t = model(lr_t)\n",
    "sr = to_pil_image(sr_t.squeeze(0).cpu().clamp(0, 1))\n",
    "\n",
    "# Bilder anzeigen\n",
    "fig, axs = plt.subplots(1, 3, figsize=(12, 6))\n",
    "axs[0].imshow(lr)\n",
    "axs[0].set_title(\"Low-Resolution\")\n",
    "axs[1].imshow(sr)\n",
    "axs[1].set_title(\"Super-Resolved\")\n",
    "axs[2].imshow(hr)\n",
    "axs[2].set_title(\"High-Resolution\")\n",
    "for ax in axs: ax.axis(\"off\")\n",
    "plt.show()\n"
   ]
  }
 ],
 "metadata": {
  "kernelspec": {
   "display_name": "Python 3 (ipykernel)",
   "language": "python",
   "name": "python3"
  },
  "language_info": {
   "codemirror_mode": {
    "name": "ipython",
    "version": 3
   },
   "file_extension": ".py",
   "mimetype": "text/x-python",
   "name": "python",
   "nbconvert_exporter": "python",
   "pygments_lexer": "ipython3",
   "version": "3.13.7"
  }
 },
 "nbformat": 4,
 "nbformat_minor": 5
}
